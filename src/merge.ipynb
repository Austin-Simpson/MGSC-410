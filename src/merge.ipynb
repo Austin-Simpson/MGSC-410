{
  "nbformat": 4,
  "nbformat_minor": 0,
  "metadata": {
    "colab": {
      "provenance": []
    },
    "kernelspec": {
      "name": "python3",
      "display_name": "Python 3"
    },
    "language_info": {
      "name": "python"
    }
  },
  "cells": [
    {
      "cell_type": "code",
      "execution_count": null,
      "metadata": {
        "id": "3FCY3uNl3P6F"
      },
      "outputs": [],
      "source": [
        "import pandas as pd\n",
        "import re\n",
        "import requests\n",
        "from google.colab import files"
      ]
    },
    {
      "cell_type": "code",
      "source": [
        "subscriberDF = pd.read_csv('subscriberDF.csv')\n",
        "subscriberDF"
      ],
      "metadata": {
        "id": "neJvXx2r39yL"
      },
      "execution_count": null,
      "outputs": []
    },
    {
      "cell_type": "code",
      "source": [
        "#function to get rid of 0s and add decimal\n",
        "def transform_value(value):\n",
        "    if pd.isnull(value):\n",
        "        return value\n",
        "    value_str = str(int(value))\n",
        "    if value_str.endswith('0000'):\n",
        "        value_int = int(value / 10000)\n",
        "        return float(value_int / 100)\n",
        "    else:\n",
        "        return value"
      ],
      "metadata": {
        "id": "INJY0EA239-7"
      },
      "execution_count": null,
      "outputs": []
    },
    {
      "cell_type": "code",
      "source": [
        "#apply to DF\n",
        "subscriberDF['Purchase Amount'] = subscriberDF['Purchase Amount'].apply(transform_value)\n",
        "subscriberDF"
      ],
      "metadata": {
        "id": "sAjO3Ape3-Kt"
      },
      "execution_count": null,
      "outputs": []
    },
    {
      "cell_type": "code",
      "source": [
        "#fetch exchange rates\n",
        "def fetch_exchange_rates(api_key, currencies):\n",
        "    currency_list = ','.join(currencies)\n",
        "    url = f'https://openexchangerates.org/api/latest.json?app_id={api_key}&symbols={currency_list}'\n",
        "    response = requests.get(url)\n",
        "    \n",
        "    if response.status_code == 200:\n",
        "        return response.json()['rates']\n",
        "    else:\n",
        "        raise ValueError(f\"Failed to fetch exchange rates. Status code: {response.status_code}\")\n",
        "\n",
        "api_key = '418dd91a76a743c7bee44a1feb77fe51'\n",
        "\n",
        "currencies = [\n",
        "    'AED', 'AUD', 'BGN', 'BRL', 'CAD', 'CHF', 'CLP', 'COP', 'CRC', 'CZK',\n",
        "    'DKK', 'EGP', 'EUR', 'GBP', 'GHS', 'HKD', 'HUF', 'IDR', 'ILS', 'INR',\n",
        "    'JPY', 'KRW', 'KZT', 'LBP', 'MXN', 'MYR', 'NOK', 'NZD', 'PEN', 'PHP',\n",
        "    'PLN', 'QAR', 'RON', 'RSD', 'RUB', 'SAR', 'SEK', 'SGD', 'THB', 'TRY',\n",
        "    'UAH', 'VND', 'ZAR'\n",
        "]\n",
        "\n",
        "exchange_rates = fetch_exchange_rates(api_key, currencies)\n",
        "print(exchange_rates)"
      ],
      "metadata": {
        "id": "JyfKGrxS3-VS"
      },
      "execution_count": null,
      "outputs": []
    },
    {
      "cell_type": "code",
      "source": [
        "#convert to USD\n",
        "def convert_to_usd(amount, currency, exchange_rates):\n",
        "    if currency in exchange_rates:\n",
        "        return amount / exchange_rates[currency]\n",
        "    else:\n",
        "        return amount\n",
        "\n",
        "def convert_currencies_to_usd(data_frame, amount_column, currency_column, exchange_rates):\n",
        "    data_frame[amount_column] = data_frame.apply(lambda row: convert_to_usd(row[amount_column], row[currency_column], exchange_rates), axis=1)\n",
        "    return data_frame"
      ],
      "metadata": {
        "id": "jAUJa4ZY3-il"
      },
      "execution_count": null,
      "outputs": []
    },
    {
      "cell_type": "code",
      "source": [
        "subscriberDF = convert_currencies_to_usd(subscriberDF, 'Purchase Amount', 'Currency', exchange_rates)\n",
        "subscriberDF"
      ],
      "metadata": {
        "id": "ISy8HEEq4IBX"
      },
      "execution_count": null,
      "outputs": []
    },
    {
      "cell_type": "code",
      "source": [
        "appDF = pd.read_csv('appDF.csv')\n",
        "appDF"
      ],
      "metadata": {
        "id": "CNAqmTmq6IS2"
      },
      "execution_count": null,
      "outputs": []
    },
    {
      "cell_type": "code",
      "source": [
        "merged_df = appDF.merge(subscriberDF, left_on='Row Labels', right_on='ID')\n",
        "merged_df"
      ],
      "metadata": {
        "id": "9V2CyN7c7D4t"
      },
      "execution_count": null,
      "outputs": []
    },
    {
      "cell_type": "code",
      "source": [
        "\n",
        "merged_df.to_csv(\"merged.csv\")\n",
        "files.download(\"merged.csv\")"
      ],
      "metadata": {
        "id": "aMMgxxrd8xsm"
      },
      "execution_count": null,
      "outputs": []
    }
  ]
}