{
  "cells": [
    {
      "cell_type": "code",
      "execution_count": null,
      "metadata": {
        "id": "3FCY3uNl3P6F"
      },
      "outputs": [],
      "source": [
        "import pandas as pd\n",
        "import re\n",
        "import requests\n",
        "# from google.colab import files"
      ]
    },
    {
      "cell_type": "code",
      "execution_count": null,
      "metadata": {
        "id": "neJvXx2r39yL"
      },
      "outputs": [],
      "source": [
        "subscriberDF = pd.read_csv('../data/Original_Subscriber_Information.csv')\n",
        "subscriberDF"
      ]
    },
    {
      "cell_type": "code",
      "execution_count": null,
      "metadata": {
        "id": "INJY0EA239-7"
      },
      "outputs": [],
      "source": [
        "#function to get rid of 0s and add decimal\n",
        "def transform_value(value):\n",
        "    if pd.isnull(value):\n",
        "        return value\n",
        "    value_str = str(int(value))\n",
        "    if value_str.endswith('0000'):\n",
        "        value_int = int(value / 10000)\n",
        "        return float(value_int / 100)\n",
        "    else:\n",
        "        return value"
      ]
    },
    {
      "cell_type": "code",
      "execution_count": null,
      "metadata": {
        "id": "sAjO3Ape3-Kt"
      },
      "outputs": [],
      "source": [
        "#apply to DF\n",
        "subscriberDF['Purchase Amount'] = subscriberDF['Purchase Amount'].apply(transform_value)\n",
        "subscriberDF"
      ]
    },
    {
      "cell_type": "code",
      "execution_count": null,
      "metadata": {
        "id": "JyfKGrxS3-VS"
      },
      "outputs": [],
      "source": [
        "#fetch exchange rates\n",
        "def fetch_exchange_rates(api_key, currencies):\n",
        "    currency_list = ','.join(currencies)\n",
        "    url = f'https://openexchangerates.org/api/latest.json?app_id={api_key}&symbols={currency_list}'\n",
        "    response = requests.get(url)\n",
        "    \n",
        "    if response.status_code == 200:\n",
        "        return response.json()['rates']\n",
        "    else:\n",
        "        raise ValueError(f\"Failed to fetch exchange rates. Status code: {response.status_code}\")\n",
        "\n",
        "api_key = '418dd91a76a743c7bee44a1feb77fe51'\n",
        "\n",
        "currencies = [\n",
        "    'AED', 'AUD', 'BGN', 'BRL', 'CAD', 'CHF', 'CLP', 'COP', 'CRC', 'CZK',\n",
        "    'DKK', 'EGP', 'EUR', 'GBP', 'GHS', 'HKD', 'HUF', 'IDR', 'ILS', 'INR',\n",
        "    'JPY', 'KRW', 'KZT', 'LBP', 'MXN', 'MYR', 'NOK', 'NZD', 'PEN', 'PHP',\n",
        "    'PLN', 'QAR', 'RON', 'RSD', 'RUB', 'SAR', 'SEK', 'SGD', 'THB', 'TRY',\n",
        "    'UAH', 'VND', 'ZAR'\n",
        "]\n",
        "\n",
        "exchange_rates = fetch_exchange_rates(api_key, currencies)\n",
        "print(exchange_rates)"
      ]
    },
    {
      "cell_type": "code",
      "execution_count": null,
      "metadata": {
        "id": "jAUJa4ZY3-il"
      },
      "outputs": [],
      "source": [
        "#convert to USD\n",
        "def convert_to_usd(amount, currency, exchange_rates):\n",
        "    if currency in exchange_rates:\n",
        "        return amount / exchange_rates[currency]\n",
        "    else:\n",
        "        return amount\n",
        "\n",
        "def convert_currencies_to_usd(data_frame, amount_column, currency_column, exchange_rates):\n",
        "    data_frame[amount_column] = data_frame.apply(lambda row: convert_to_usd(row[amount_column], row[currency_column], exchange_rates), axis=1)\n",
        "    return data_frame"
      ]
    },
    {
      "cell_type": "code",
      "execution_count": null,
      "metadata": {
        "id": "ISy8HEEq4IBX"
      },
      "outputs": [],
      "source": [
        "subscriberDF = convert_currencies_to_usd(subscriberDF, 'Purchase Amount', 'Currency', exchange_rates)\n",
        "subscriberDF"
      ]
    },
    {
      "cell_type": "code",
      "execution_count": null,
      "metadata": {},
      "outputs": [],
      "source": [
        "appDF = pd.read_csv('../data/Original_App_activity.csv')\n",
        "\n",
        "print(appDF.nunique())\n",
        "# print unique sesion types\n",
        "print(appDF['App Session Platform'].unique())\n",
        "print(appDF['App Activity Type'].unique())\n",
        "\n",
        "print(\"shape0: \", appDF.shape)\n",
        "# drop na\n",
        "appDF.dropna()\n",
        "print(\"shape1: \", appDF.shape)\n",
        "#drop nan\n",
        "appDF = appDF.dropna(subset=['App Activity Type', 'App Session Platform', 'App Session Date'])\n",
        "print(\"shape2: \", appDF.shape)\n",
        "print(appDF['App Activity Type'].unique())\n",
        "print(appDF['App Session Platform'].unique())\n",
        "\n",
        "print(appDF.nunique())\n",
        "\n",
        "appDF.to_csv('../data/app_nonull.csv', index=False)"
      ]
    },
    {
      "cell_type": "code",
      "execution_count": null,
      "metadata": {},
      "outputs": [],
      "source": [
        "# Use currencies to determine the country of the subscriber\n",
        "currency_to_country = {\n",
        "    'AED': 'United Arab Emirates',\n",
        "    'AUD': 'Australia',\n",
        "    'BGN': 'Bulgaria',\n",
        "    'BRL': 'Brazil',\n",
        "    'CAD': 'Canada',\n",
        "    'CHF': 'Switzerland',\n",
        "    'CLP': 'Chile',\n",
        "    'COP': 'Colombia',\n",
        "    'CRC': 'Costa Rica',\n",
        "    'CZK': 'Czech Republic',\n",
        "    'DKK': 'Denmark',\n",
        "    'EGP': 'Egypt',\n",
        "    'EUR': 'European Union',\n",
        "    'GBP': 'United Kingdom',\n",
        "    'GHS': 'Ghana',\n",
        "    'HKD': 'Hong Kong',\n",
        "    'HUF': 'Hungary',\n",
        "    'IDR': 'Indonesia',\n",
        "    'ILS': 'Israel',\n",
        "    'INR': 'India',\n",
        "    'JPY': 'Japan',\n",
        "    'KRW': 'South Korea',\n",
        "    'KZT': 'Kazakhstan',\n",
        "    'LBP': 'Lebanon',\n",
        "    'MXN': 'Mexico',\n",
        "    'MYR': 'Malaysia',\n",
        "    'NOK': 'Norway',\n",
        "    'NZD': 'New Zealand',\n",
        "    'PEN': 'Peru',\n",
        "    'PHP': 'Philippines',\n",
        "    'PLN': 'Poland',\n",
        "    'QAR': 'Qatar',\n",
        "    'RON': 'Romania',\n",
        "    'RSD': 'Serbia',\n",
        "    'RUB': 'Russia',\n",
        "    'SAR': 'Saudi Arabia',\n",
        "    'SEK': 'Sweden',\n",
        "    'SGD': 'Singapore',\n",
        "    'THB': 'Thailand',\n",
        "    'TRY': 'Turkey',\n",
        "    'UAH': 'Ukraine',\n",
        "    'USD': 'United States',\n",
        "    'VND': 'Vietnam',\n",
        "    'ZAR': 'South Africa'\n",
        "}\n",
        "\n",
        "#skip rows with na or nan in currency\n",
        "subscriberDF['Country'] = subscriberDF['Currency'].apply(lambda currency: currency_to_country[currency] if currency in currency_to_country else None)\n",
        "\n",
        "subscriberDF.nunique()"
      ]
    },
    {
      "cell_type": "code",
      "execution_count": null,
      "metadata": {
        "id": "9V2CyN7c7D4t"
      },
      "outputs": [],
      "source": [
        "subscriberDF.to_csv('../data/subscriber_USD.csv', index=False)\n",
        "\n",
        "merged_df = subscriberDF.merge(appDF, on='ID', how='left')\n"
      ]
    },
    {
      "cell_type": "code",
      "execution_count": null,
      "metadata": {},
      "outputs": [],
      "source": [
        "# count unique values in each column\n",
        "origSubscriberDF = pd.read_csv('../data/Original_Subscriber_Information.csv')\n",
        "print(\"orig:   \", origSubscriberDF.shape)\n",
        "print(\"clean:  \", subscriberDF.shape)\n",
        "print(\"merged: \", merged_df.shape)\n",
        "print(\"orig:\")\n",
        "print(origSubscriberDF.nunique())\n",
        "print(\"cleaned:\")\n",
        "print(subscriberDF.nunique())\n",
        "print(\"merged:\")\n",
        "print(merged_df.nunique())"
      ]
    },
    {
      "cell_type": "code",
      "execution_count": null,
      "metadata": {
        "id": "aMMgxxrd8xsm"
      },
      "outputs": [],
      "source": [
        "\n",
        "# merged_df.to_csv(\"merged.csv\")\n",
        "# files.download(\"merged.csv\")\n",
        "\n",
        "merged_df.to_csv(\"../data/merged_A.csv\")"
      ]
    }
  ],
  "metadata": {
    "colab": {
      "provenance": []
    },
    "kernelspec": {
      "display_name": "Python 3",
      "name": "python3"
    },
    "language_info": {
      "codemirror_mode": {
        "name": "ipython",
        "version": 3
      },
      "file_extension": ".py",
      "mimetype": "text/x-python",
      "name": "python",
      "nbconvert_exporter": "python",
      "pygments_lexer": "ipython3",
      "version": "3.10.9"
    }
  },
  "nbformat": 4,
  "nbformat_minor": 0
}
