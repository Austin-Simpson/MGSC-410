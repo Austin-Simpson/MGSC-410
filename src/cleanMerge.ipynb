{
 "cells": [
  {
   "cell_type": "code",
   "execution_count": 21,
   "metadata": {},
   "outputs": [
    {
     "name": "stdout",
     "output_type": "stream",
     "text": [
      "appDF.shape:  (809478, 4)\n",
      "subscriberDF.shape:  (40102, 24)\n"
     ]
    }
   ],
   "source": [
    "import pandas as pd\n",
    "\n",
    "pd.set_option('display.max_columns', None)\n",
    "pd.set_option('display.max_rows', None)\n",
    "\n",
    "\n",
    "\n",
    "appDF = pd.read_csv(\"../data/Original_App_activity.csv\")\n",
    "subscriberDF = pd.read_csv(\"../data/Original_Subscriber_Information.csv\")\n",
    "\n",
    "print(\"appDF.shape: \", appDF.shape)\n",
    "print(\"subscriberDF.shape: \", subscriberDF.shape)"
   ]
  },
  {
   "cell_type": "code",
   "execution_count": 22,
   "metadata": {},
   "outputs": [
    {
     "name": "stdout",
     "output_type": "stream",
     "text": [
      "appDF.shape:  (765300, 4)\n"
     ]
    },
    {
     "data": {
      "text/html": [
       "<div>\n",
       "<style scoped>\n",
       "    .dataframe tbody tr th:only-of-type {\n",
       "        vertical-align: middle;\n",
       "    }\n",
       "\n",
       "    .dataframe tbody tr th {\n",
       "        vertical-align: top;\n",
       "    }\n",
       "\n",
       "    .dataframe thead th {\n",
       "        text-align: right;\n",
       "    }\n",
       "</style>\n",
       "<table border=\"1\" class=\"dataframe\">\n",
       "  <thead>\n",
       "    <tr style=\"text-align: right;\">\n",
       "      <th></th>\n",
       "      <th>ID</th>\n",
       "      <th>App Session Platform</th>\n",
       "      <th>App Activity Type</th>\n",
       "      <th>App Session Date</th>\n",
       "    </tr>\n",
       "  </thead>\n",
       "  <tbody>\n",
       "    <tr>\n",
       "      <th>0</th>\n",
       "      <td>1</td>\n",
       "      <td>ios</td>\n",
       "      <td>App Launch</td>\n",
       "      <td>3/20/2019</td>\n",
       "    </tr>\n",
       "    <tr>\n",
       "      <th>1</th>\n",
       "      <td>2</td>\n",
       "      <td>android</td>\n",
       "      <td>App Launch</td>\n",
       "      <td>12/3/2019</td>\n",
       "    </tr>\n",
       "    <tr>\n",
       "      <th>2</th>\n",
       "      <td>3</td>\n",
       "      <td>ios</td>\n",
       "      <td>App Launch</td>\n",
       "      <td>5/2/2019</td>\n",
       "    </tr>\n",
       "    <tr>\n",
       "      <th>3</th>\n",
       "      <td>4</td>\n",
       "      <td>ios</td>\n",
       "      <td>App Launch</td>\n",
       "      <td>2/6/2020</td>\n",
       "    </tr>\n",
       "    <tr>\n",
       "      <th>4</th>\n",
       "      <td>5</td>\n",
       "      <td>ios</td>\n",
       "      <td>Start</td>\n",
       "      <td>9/14/2019</td>\n",
       "    </tr>\n",
       "  </tbody>\n",
       "</table>\n",
       "</div>"
      ],
      "text/plain": [
       "   ID App Session Platform App Activity Type App Session Date\n",
       "0   1                  ios        App Launch        3/20/2019\n",
       "1   2              android        App Launch        12/3/2019\n",
       "2   3                  ios        App Launch         5/2/2019\n",
       "3   4                  ios        App Launch         2/6/2020\n",
       "4   5                  ios             Start        9/14/2019"
      ]
     },
     "execution_count": 22,
     "metadata": {},
     "output_type": "execute_result"
    }
   ],
   "source": [
    "# Clean appDF\n",
    "appDF = appDF.drop_duplicates()\n",
    "appDF = appDF.dropna()\n",
    "\n",
    "print(\"appDF.shape: \", appDF.shape)\n",
    "appDF.head()"
   ]
  },
  {
   "cell_type": "code",
   "execution_count": 23,
   "metadata": {},
   "outputs": [
    {
     "name": "stdout",
     "output_type": "stream",
     "text": [
      "subscriberDF.duplicated().sum():  0\n",
      "   ID Language Subscription Type Subscription Event Type Purchase Store  \\\n",
      "0   1      POR           Limited        INITIAL_PURCHASE            App   \n",
      "1   2      EBR           Limited        INITIAL_PURCHASE            Web   \n",
      "2   3      ESP           Limited        INITIAL_PURCHASE            Web   \n",
      "3   4      KOR           Limited        INITIAL_PURCHASE            App   \n",
      "4   5      ENG           Limited        INITIAL_PURCHASE            App   \n",
      "\n",
      "   Purchase Amount Currency Subscription Start Date Subscription Expiration  \\\n",
      "0              NaN      NaN              12/28/2018               6/28/2019   \n",
      "1             39.0      USD              11/28/2019               2/28/2020   \n",
      "2              0.0      USD              12/31/2018              12/31/2019   \n",
      "3              NaN      NaN               11/7/2019                2/7/2020   \n",
      "4              NaN      NaN               8/13/2019              11/13/2019   \n",
      "\n",
      "  Demo User Free Trial User Free Trial Start Date Free Trial Expiration  \\\n",
      "0       Yes              No                   NaN                   NaN   \n",
      "1        No              No                   NaN                   NaN   \n",
      "2        No              No                   NaN                   NaN   \n",
      "3       Yes              No                   NaN                   NaN   \n",
      "4        No              No                   NaN                   NaN   \n",
      "\n",
      "  Auto Renew    Country User Type Lead Platform Email Subscriber  \\\n",
      "0        Off  US/Canada  Consumer           App              Yes   \n",
      "1        Off      Other  Consumer           Web               No   \n",
      "2        Off  US/Canada  Consumer           Web              Yes   \n",
      "3        Off  US/Canada  Consumer           App              Yes   \n",
      "4        Off  US/Canada  Consumer           Web              Yes   \n",
      "\n",
      "  Push Notifications  Send Count  Open Count  Click Count  Unique Open Count  \\\n",
      "0                Yes        63.0         7.0          0.0                6.0   \n",
      "1                Yes         4.0         3.0          0.0                1.0   \n",
      "2                Yes         1.0         0.0          0.0                0.0   \n",
      "3                Yes        14.0         0.0          0.0                0.0   \n",
      "4                Yes        80.0         5.0          1.0                5.0   \n",
      "\n",
      "   Unique Click Count  \n",
      "0                 0.0  \n",
      "1                 0.0  \n",
      "2                 0.0  \n",
      "3                 0.0  \n",
      "4                 1.0  \n",
      "\n",
      "subscriberDF.nunique():  ID                         40000\n",
      "Language                      31\n",
      "Subscription Type              2\n",
      "Subscription Event Type        2\n",
      "Purchase Store                 2\n",
      "Purchase Amount             1020\n",
      "Currency                      44\n",
      "Subscription Start Date      548\n",
      "Subscription Expiration     1157\n",
      "Demo User                      2\n",
      "Free Trial User                2\n",
      "Free Trial Start Date        609\n",
      "Free Trial Expiration        610\n",
      "Auto Renew                     2\n",
      "Country                        3\n",
      "User Type                      2\n",
      "Lead Platform                  3\n",
      "Email Subscriber               2\n",
      "Push Notifications             2\n",
      "Send Count                   331\n",
      "Open Count                   273\n",
      "Click Count                  146\n",
      "Unique Open Count            167\n",
      "Unique Click Count            26\n",
      "dtype: int64\n"
     ]
    }
   ],
   "source": [
    "# Clean subscriberDF\n",
    "\n",
    "# count duplicates (there were none)\n",
    "print(\"subscriberDF.duplicated().sum(): \", subscriberDF.duplicated().sum()) \n",
    "\n",
    "# TODO:\n",
    "# 1. Change Null purchase amount to 0?\n",
    "    # maybe keep these to indicate free trial without messing up avg purchase amount\n",
    "# 2. fix purchases with extra 4 0's\n",
    "# 3. convert currnecies to be USD\n",
    "\n",
    "\n",
    "print(subscriberDF.head())\n",
    "print()\n",
    "# count unique values in each column\n",
    "print(\"subscriberDF.nunique(): \", subscriberDF.nunique())\n",
    "\n"
   ]
  }
 ],
 "metadata": {
  "kernelspec": {
   "display_name": "Python 3",
   "language": "python",
   "name": "python3"
  },
  "language_info": {
   "codemirror_mode": {
    "name": "ipython",
    "version": 3
   },
   "file_extension": ".py",
   "mimetype": "text/x-python",
   "name": "python",
   "nbconvert_exporter": "python",
   "pygments_lexer": "ipython3",
   "version": "3.10.9"
  },
  "orig_nbformat": 4
 },
 "nbformat": 4,
 "nbformat_minor": 2
}
