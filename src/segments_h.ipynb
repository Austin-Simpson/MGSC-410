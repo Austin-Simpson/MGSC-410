{
 "cells": [
  {
   "cell_type": "code",
   "execution_count": 2,
   "metadata": {},
   "outputs": [
    {
     "name": "stdout",
     "output_type": "stream",
     "text": [
      "                   ID   Language  Subscription Type  Purchase Amount  \\\n",
      "Cluster                                                                \n",
      "0        19874.674084   8.791498           0.831465        71.530709   \n",
      "1        21300.144628   5.605935           0.879790        60.140574   \n",
      "2         8631.875000  25.375000           1.000000        59.103691   \n",
      "3        20498.606808  20.572770           0.929577        51.504755   \n",
      "\n",
      "           Country  User Type  Lead Platform  Send Count  Open Count  \\\n",
      "Cluster                                                                \n",
      "0        42.622690   0.310470       0.913368   32.991083    7.898370   \n",
      "1         9.770473   0.475958       1.163035   20.846032   11.623810   \n",
      "2        27.125000   0.125000       0.125000    1.000000    0.000000   \n",
      "3         9.603286   0.453052       1.142019   28.343750   20.557292   \n",
      "\n",
      "         Click Count  Unique Open Count  Unique Click Count  \n",
      "Cluster                                                      \n",
      "0           1.775622           3.971235            0.351976  \n",
      "1           6.192063           2.625397            0.546825  \n",
      "2           0.000000           0.000000            0.000000  \n",
      "3          15.338542           2.559896            0.526042  \n"
     ]
    },
    {
     "name": "stderr",
     "output_type": "stream",
     "text": [
      "G:\\TempForDownloads\\ipykernel_12668\\2379324069.py:32: FutureWarning: The default value of numeric_only in DataFrameGroupBy.mean is deprecated. In a future version, numeric_only will default to False. Either specify numeric_only or select only columns which should be valid for the function.\n",
      "  cluster_summary = df.groupby('Cluster').mean()\n"
     ]
    }
   ],
   "source": [
    "import pandas as pd\n",
    "import numpy as np\n",
    "import matplotlib.pyplot as plt\n",
    "from sklearn.preprocessing import LabelEncoder\n",
    "from sklearn.cluster import AgglomerativeClustering\n",
    "\n",
    "# Load data into a pandas dataframe\n",
    "df = pd.read_csv('../data/subscriberClean.csv')\n",
    "\n",
    "# Encode categorical variables using LabelEncoder\n",
    "cat_cols = ['Language', 'Subscription Type', 'Country', 'User Type', 'Lead Platform']\n",
    "for col in cat_cols:\n",
    "    le = LabelEncoder()\n",
    "    df[col] = le.fit_transform(df[col])\n",
    "\n",
    "# Convert data type to float16\n",
    "X = df[['Language', 'Subscription Type', 'Country', 'User Type', 'Lead Platform']]\n",
    "\n",
    "# Define number of clusters\n",
    "n_clusters = 4\n",
    "\n",
    "# Initialize AgglomerativeClustering algorithm with caching\n",
    "ac = AgglomerativeClustering(n_clusters=n_clusters, linkage='average')\n",
    "\n",
    "# Fit the data to the algorithm\n",
    "ac.fit(X)\n",
    "\n",
    "# Add cluster labels to the dataframe\n",
    "df['Cluster'] = ac.labels_\n",
    "\n",
    "# Analyze cluster characteristics\n",
    "cluster_summary = df.groupby('Cluster').mean()\n",
    "print(cluster_summary)\n"
   ]
  },
  {
   "cell_type": "code",
   "execution_count": null,
   "metadata": {},
   "outputs": [],
   "source": [
    "df.to_csv('../data/cluster_ac.csv')"
   ]
  }
 ],
 "metadata": {
  "kernelspec": {
   "display_name": "Python 3",
   "language": "python",
   "name": "python3"
  },
  "language_info": {
   "codemirror_mode": {
    "name": "ipython",
    "version": 3
   },
   "file_extension": ".py",
   "mimetype": "text/x-python",
   "name": "python",
   "nbconvert_exporter": "python",
   "pygments_lexer": "ipython3",
   "version": "3.11.2"
  },
  "orig_nbformat": 4
 },
 "nbformat": 4,
 "nbformat_minor": 2
}
