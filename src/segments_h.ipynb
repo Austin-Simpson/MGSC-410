{
 "cells": [
  {
   "cell_type": "code",
   "execution_count": 1,
   "metadata": {},
   "outputs": [
    {
     "name": "stdout",
     "output_type": "stream",
     "text": [
      "                   ID   Language  Subscription Type  Purchase Amount  \\\n",
      "Cluster                                                                \n",
      "0        19874.674084   8.791498           0.831465        71.530709   \n",
      "1        21300.144628   5.605935           0.879790        60.140574   \n",
      "2         8631.875000  25.375000           1.000000        59.103691   \n",
      "3        20498.606808  20.572770           0.929577        51.504755   \n",
      "\n",
      "           Country  User Type  Lead Platform  Send Count  Open Count  \\\n",
      "Cluster                                                                \n",
      "0        42.622690   0.310470       0.913368   32.991083    7.898370   \n",
      "1         9.770473   0.475958       1.163035   20.846032   11.623810   \n",
      "2        27.125000   0.125000       0.125000    1.000000    0.000000   \n",
      "3         9.603286   0.453052       1.142019   28.343750   20.557292   \n",
      "\n",
      "         Click Count  Unique Open Count  Unique Click Count  \n",
      "Cluster                                                      \n",
      "0           1.775622           3.971235            0.351976  \n",
      "1           6.192063           2.625397            0.546825  \n",
      "2           0.000000           0.000000            0.000000  \n",
      "3          15.338542           2.559896            0.526042  \n"
     ]
    },
    {
     "name": "stderr",
     "output_type": "stream",
     "text": [
      "G:\\TempForDownloads\\ipykernel_12540\\2379324069.py:32: FutureWarning: The default value of numeric_only in DataFrameGroupBy.mean is deprecated. In a future version, numeric_only will default to False. Either specify numeric_only or select only columns which should be valid for the function.\n",
      "  cluster_summary = df.groupby('Cluster').mean()\n"
     ]
    }
   ],
   "source": [
    "import pandas as pd\n",
    "import numpy as np\n",
    "import matplotlib.pyplot as plt\n",
    "from sklearn.preprocessing import LabelEncoder\n",
    "from sklearn.cluster import AgglomerativeClustering\n",
    "\n",
    "# Load data into a pandas dataframe\n",
    "df = pd.read_csv('../data/subscriberClean.csv')\n",
    "\n",
    "# Encode categorical variables using LabelEncoder\n",
    "cat_cols = ['Language', 'Subscription Type', 'Country', 'User Type', 'Lead Platform']\n",
    "for col in cat_cols:\n",
    "    le = LabelEncoder()\n",
    "    df[col] = le.fit_transform(df[col])\n",
    "\n",
    "X = df[['Language', 'Subscription Type', 'Country', 'User Type', 'Lead Platform']]\n",
    "\n",
    "# Define number of clusters\n",
    "n_clusters = 4\n",
    "\n",
    "# Initialize AgglomerativeClustering algorithm with caching\n",
    "ac = AgglomerativeClustering(n_clusters=n_clusters, linkage='average')\n",
    "\n",
    "# Fit the data to the algorithm\n",
    "ac.fit(X)\n",
    "\n",
    "# Add cluster labels to the dataframe\n",
    "df['Cluster'] = ac.labels_\n",
    "\n",
    "# Analyze cluster characteristics\n",
    "cluster_summary = df.groupby('Cluster').mean()\n",
    "print(cluster_summary)\n"
   ]
  },
  {
   "cell_type": "code",
   "execution_count": 2,
   "metadata": {},
   "outputs": [],
   "source": [
    "# df.to_csv('../data/cluster_ac.csv')"
   ]
  },
  {
   "cell_type": "code",
   "execution_count": 3,
   "metadata": {},
   "outputs": [
    {
     "ename": "TypeError",
     "evalue": "Linkage matrix 'Z' must contain doubles.",
     "output_type": "error",
     "traceback": [
      "\u001b[1;31m---------------------------------------------------------------------------\u001b[0m",
      "\u001b[1;31mTypeError\u001b[0m                                 Traceback (most recent call last)",
      "Cell \u001b[1;32mIn[3], line 6\u001b[0m\n\u001b[0;32m      4\u001b[0m plt\u001b[39m.\u001b[39mfigure(figsize\u001b[39m=\u001b[39m(\u001b[39m10\u001b[39m, \u001b[39m7\u001b[39m))\n\u001b[0;32m      5\u001b[0m plt\u001b[39m.\u001b[39mtitle(\u001b[39m\"\u001b[39m\u001b[39mDendrogram\u001b[39m\u001b[39m\"\u001b[39m)\n\u001b[1;32m----> 6\u001b[0m dendrogram(ac\u001b[39m.\u001b[39;49mfit(X), truncate_mode\u001b[39m=\u001b[39;49m\u001b[39m'\u001b[39;49m\u001b[39mlevel\u001b[39;49m\u001b[39m'\u001b[39;49m, p\u001b[39m=\u001b[39;49m\u001b[39m3\u001b[39;49m)\n\u001b[0;32m      7\u001b[0m plt\u001b[39m.\u001b[39mxlabel(\u001b[39m\"\u001b[39m\u001b[39mNumber of points in node (or index of point if no parenthesis).\u001b[39m\u001b[39m\"\u001b[39m)\n\u001b[0;32m      8\u001b[0m plt\u001b[39m.\u001b[39mshow()\n",
      "File \u001b[1;32mc:\\Users\\Austin\\AppData\\Local\\Programs\\Python\\Python311\\Lib\\site-packages\\scipy\\cluster\\hierarchy.py:3307\u001b[0m, in \u001b[0;36mdendrogram\u001b[1;34m(Z, p, truncate_mode, color_threshold, get_leaves, orientation, labels, count_sort, distance_sort, show_leaf_counts, no_plot, no_labels, leaf_font_size, leaf_rotation, leaf_label_func, show_contracted, link_color_func, ax, above_threshold_color)\u001b[0m\n\u001b[0;32m   3304\u001b[0m \u001b[39mif\u001b[39;00m labels \u001b[39mis\u001b[39;00m \u001b[39mnot\u001b[39;00m \u001b[39mNone\u001b[39;00m \u001b[39mand\u001b[39;00m Z\u001b[39m.\u001b[39mshape[\u001b[39m0\u001b[39m] \u001b[39m+\u001b[39m \u001b[39m1\u001b[39m \u001b[39m!=\u001b[39m \u001b[39mlen\u001b[39m(labels):\n\u001b[0;32m   3305\u001b[0m     \u001b[39mraise\u001b[39;00m \u001b[39mValueError\u001b[39;00m(\u001b[39m\"\u001b[39m\u001b[39mDimensions of Z and labels must be consistent.\u001b[39m\u001b[39m\"\u001b[39m)\n\u001b[1;32m-> 3307\u001b[0m is_valid_linkage(Z, throw\u001b[39m=\u001b[39;49m\u001b[39mTrue\u001b[39;49;00m, name\u001b[39m=\u001b[39;49m\u001b[39m'\u001b[39;49m\u001b[39mZ\u001b[39;49m\u001b[39m'\u001b[39;49m)\n\u001b[0;32m   3308\u001b[0m Zs \u001b[39m=\u001b[39m Z\u001b[39m.\u001b[39mshape\n\u001b[0;32m   3309\u001b[0m n \u001b[39m=\u001b[39m Zs[\u001b[39m0\u001b[39m] \u001b[39m+\u001b[39m \u001b[39m1\u001b[39m\n",
      "File \u001b[1;32mc:\\Users\\Austin\\AppData\\Local\\Programs\\Python\\Python311\\Lib\\site-packages\\scipy\\cluster\\hierarchy.py:2269\u001b[0m, in \u001b[0;36mis_valid_linkage\u001b[1;34m(Z, warning, throw, name)\u001b[0m\n\u001b[0;32m   2266\u001b[0m     \u001b[39mraise\u001b[39;00m \u001b[39mTypeError\u001b[39;00m(\u001b[39m'\u001b[39m\u001b[39mPassed linkage argument \u001b[39m\u001b[39m%s\u001b[39;00m\u001b[39mis not a valid array.\u001b[39m\u001b[39m'\u001b[39m \u001b[39m%\u001b[39m\n\u001b[0;32m   2267\u001b[0m                     name_str)\n\u001b[0;32m   2268\u001b[0m \u001b[39mif\u001b[39;00m Z\u001b[39m.\u001b[39mdtype \u001b[39m!=\u001b[39m np\u001b[39m.\u001b[39mdouble:\n\u001b[1;32m-> 2269\u001b[0m     \u001b[39mraise\u001b[39;00m \u001b[39mTypeError\u001b[39;00m(\u001b[39m'\u001b[39m\u001b[39mLinkage matrix \u001b[39m\u001b[39m%s\u001b[39;00m\u001b[39mmust contain doubles.\u001b[39m\u001b[39m'\u001b[39m \u001b[39m%\u001b[39m name_str)\n\u001b[0;32m   2270\u001b[0m \u001b[39mif\u001b[39;00m \u001b[39mlen\u001b[39m(Z\u001b[39m.\u001b[39mshape) \u001b[39m!=\u001b[39m \u001b[39m2\u001b[39m:\n\u001b[0;32m   2271\u001b[0m     \u001b[39mraise\u001b[39;00m \u001b[39mValueError\u001b[39;00m(\u001b[39m'\u001b[39m\u001b[39mLinkage matrix \u001b[39m\u001b[39m%s\u001b[39;00m\u001b[39mmust have shape=2 (i.e. be \u001b[39m\u001b[39m'\u001b[39m\n\u001b[0;32m   2272\u001b[0m                      \u001b[39m'\u001b[39m\u001b[39mtwo-dimensional).\u001b[39m\u001b[39m'\u001b[39m \u001b[39m%\u001b[39m name_str)\n",
      "\u001b[1;31mTypeError\u001b[0m: Linkage matrix 'Z' must contain doubles."
     ]
    },
    {
     "data": {
      "image/png": "[encoded data removed]",
      "text/plain": [
       "<Figure size 1000x700 with 1 Axes>"
      ]
     },
     "metadata": {},
     "output_type": "display_data"
    }
   ],
   "source": [
    "from scipy.cluster.hierarchy import dendrogram\n",
    "\n",
    "# Create dendrogram\n",
    "plt.figure(figsize=(10, 7))\n",
    "plt.title(\"Dendrogram\")\n",
    "dendrogram(ac.fit(X), truncate_mode='level', p=3)\n",
    "plt.xlabel(\"Number of points in node (or index of point if no parenthesis).\")\n",
    "plt.show()"
   ]
  }
 ],
 "metadata": {
  "kernelspec": {
   "display_name": "Python 3",
   "language": "python",
   "name": "python3"
  },
  "language_info": {
   "codemirror_mode": {
    "name": "ipython",
    "version": 3
   },
   "file_extension": ".py",
   "mimetype": "text/x-python",
   "name": "python",
   "nbconvert_exporter": "python",
   "pygments_lexer": "ipython3",
   "version": "3.11.2"
  },
  "orig_nbformat": 4
 },
 "nbformat": 4,
 "nbformat_minor": 2
}
