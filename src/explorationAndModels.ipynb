{
 "cells": [
  {
   "cell_type": "code",
   "execution_count": 1,
   "metadata": {},
   "outputs": [],
   "source": [
    "import pandas as pd\n",
    "pd.set_option('display.max_columns', None)\n",
    "pd.set_option('display.width', None)\n",
    "\n",
    "# Read in the data\n",
    "# fullDF = pd.read_csv('../data/merged_A.csv')\n",
    "fullDF = pd.read_csv('../data/mergedClean.csv', index_col=0)\n",
    "appDF = pd.read_csv('../data/Original_App_activity.csv')\n",
    "subscriberDF = pd.read_csv('../data/subscriber_USD.csv')\n",
    "\n",
    "from cleanDF import cleanDF\n",
    "fullDF = cleanDF(fullDF)\n",
    "appDF = cleanDF(appDF)\n",
    "subscriberDF = cleanDF(subscriberDF)\n",
    "\n",
    "\n",
    "appDF_start = appDF.copy()\n",
    "subscriberDF_start = subscriberDF.copy()\n",
    "fullDF_start = fullDF.copy()\n",
    "fullDF.head()"
   ]
  },
  {
   "cell_type": "code",
   "execution_count": null,
   "metadata": {},
   "outputs": [
    {
     "name": "stdout",
     "output_type": "stream",
     "text": [
      "Index(['ID', 'App Session Platform', 'App Activity Type', 'App Session Date'], dtype='object')\n",
      "Index(['ID', 'Language', 'Subscription Type', 'Subscription Event Type',\n",
      "       'Purchase Store', 'Purchase Amount', 'Currency',\n",
      "       'Subscription Start Date', 'Subscription Expiration', 'Demo User',\n",
      "       'Free Trial User', 'Free Trial Start Date', 'Free Trial Expiration',\n",
      "       'Auto Renew', 'Country', 'User Type', 'Lead Platform',\n",
      "       'Email Subscriber', 'Push Notifications', 'Send Count', 'Open Count',\n",
      "       'Click Count', 'Unique Open Count', 'Unique Click Count'],\n",
      "      dtype='object')\n"
     ]
    }
   ],
   "source": [
    "print(appDF.columns)\n",
    "print(subscriberDF.columns)"
   ]
  },
  {
   "cell_type": "code",
   "execution_count": null,
   "metadata": {},
   "outputs": [],
   "source": [
    "fullDF.columns\n",
    "fullDF.nunique()"
   ]
  },
  {
   "cell_type": "code",
   "execution_count": null,
   "metadata": {},
   "outputs": [],
   "source": [
    "fullDF.dtypes"
   ]
  },
  {
   "cell_type": "code",
   "execution_count": null,
   "metadata": {},
   "outputs": [],
   "source": []
  },
  {
   "cell_type": "code",
   "execution_count": null,
   "metadata": {},
   "outputs": [],
   "source": [
    "fullDF.dtypes"
   ]
  },
  {
   "cell_type": "code",
   "execution_count": null,
   "metadata": {},
   "outputs": [],
   "source": []
  },
  {
   "attachments": {},
   "cell_type": "markdown",
   "metadata": {},
   "source": [
    "1. Determine the most valuable subscribers\n",
    "1. Understanding the subscriber segments present in the database\n",
    "1. Identify the most likely subscribers who could be sold additional products or services\n",
    "1. Identify the subscriber profile of those not continuing with their usage of the product and identify the barriers to deeper subscriber engagement where possible\n",
    "1. Outline any business relevant opportunities that are present from your analysis of the data no covered above"
   ]
  },
  {
   "cell_type": "code",
   "execution_count": null,
   "metadata": {},
   "outputs": [],
   "source": [
    "subscriberDF.info()"
   ]
  },
  {
   "cell_type": "code",
   "execution_count": null,
   "metadata": {},
   "outputs": [],
   "source": [
    "print(fullDF.shape)\n",
    "print(fullDF.isna().sum())"
   ]
  },
  {
   "cell_type": "code",
   "execution_count": null,
   "metadata": {},
   "outputs": [],
   "source": [
    "print(subscriberDF.shape)\n",
    "print(subscriberDF.isna().sum())"
   ]
  },
  {
   "cell_type": "code",
   "execution_count": null,
   "metadata": {},
   "outputs": [],
   "source": [
    "fullDF.nunique()"
   ]
  },
  {
   "cell_type": "code",
   "execution_count": null,
   "metadata": {},
   "outputs": [],
   "source": [
    "print(fullDF['Currency'].isna().sum())"
   ]
  },
  {
   "cell_type": "code",
   "execution_count": null,
   "metadata": {},
   "outputs": [],
   "source": [
    "from sklearn.decomposition import PCA\n",
    "from sklearn.preprocessing import StandardScaler\n",
    "import matplotlib.pyplot as plt\n",
    "from sklearn.cluster import hierarchical\n",
    "\n",
    "# hierarchical clustering\n",
    "\n",
    "\n"
   ]
  },
  {
   "cell_type": "code",
   "execution_count": null,
   "metadata": {},
   "outputs": [],
   "source": [
    "# Clustering model on subscriber_USD\n",
    "\n",
    "subscriberStringDF = pd.read_csv('../data/subscriberString.csv')\n",
    "\n",
    "# z-score standardization\n",
    "scaler = StandardScaler()\n",
    "\n",
    "# z-score columns where values are float or int\n",
    "num_cols = subscriberDF.select_dtypes(include=['number']).columns\n",
    "subscriberScaled = subscriberDF.copy()\n",
    "subcriberScaled = scaler.fit_transform(subscriberScaled[num_cols])\n",
    "\n",
    "model = KMeans(n_clusters=5, random_state=42)\n",
    "model.fit(subcriberScaled)\n",
    "\n",
    "# add cluster labels to the dataframe\n",
    "subscriberDF['cluster'] = model.labels_\n",
    "\n",
    "print(subscriberDF['cluster'].value_counts())"
   ]
  },
  {
   "cell_type": "code",
   "execution_count": null,
   "metadata": {},
   "outputs": [],
   "source": [
    "from sklearn.linear_model import LinearRegression # Linear Regression Model\n",
    "from sklearn.preprocessing import StandardScaler #Z-score variables\n",
    "from sklearn.metrics import mean_squared_error, mean_absolute_error, r2_score #model evaluation\n",
    "\n",
    "\n"
   ]
  },
  {
   "cell_type": "code",
   "execution_count": null,
   "metadata": {},
   "outputs": [],
   "source": [
    "from plotnine import *\n",
    "(ggplot((subscriberDF, aes(x='Lead Platform')) + geom_bar()))\n"
   ]
  },
  {
   "cell_type": "code",
   "execution_count": null,
   "metadata": {},
   "outputs": [],
   "source": [
    "(ggplot(fullDF(x='Lead Platform', y = 'Purchase Amount')) + geom_boxplot())"
   ]
  }
 ],
 "metadata": {
  "kernelspec": {
   "display_name": "Python 3",
   "language": "python",
   "name": "python3"
  },
  "language_info": {
   "codemirror_mode": {
    "name": "ipython",
    "version": 3
   },
   "file_extension": ".py",
   "mimetype": "text/x-python",
   "name": "python",
   "nbconvert_exporter": "python",
   "pygments_lexer": "ipython3",
   "version": "3.10.9"
  },
  "orig_nbformat": 4
 },
 "nbformat": 4,
 "nbformat_minor": 2
}
